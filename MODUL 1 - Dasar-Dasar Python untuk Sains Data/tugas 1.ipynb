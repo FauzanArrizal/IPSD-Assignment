{
 "cells": [
  {
   "cell_type": "code",
   "execution_count": 6,
   "metadata": {},
   "outputs": [
    {
     "name": "stdout",
     "output_type": "stream",
     "text": [
      "2\n",
      "2 3\n",
      "2 3 5\n",
      "2 3 5 7\n",
      "2 3 5 7 11\n"
     ]
    }
   ],
   "source": [
    "# nomor 1\n",
    "\n",
    "## Soal 1: Memecahkan Masalah Unik dengan Loop dan If-Else  \n",
    "## **Soal**: Buatlah program yang dapat menghasilkan pola berbentuk angka seperti di bawah ini, dengan syarat angka yang ditampilkan adalah hasil dari penjumlahan bilangan prima sebelumnya\n",
    "## Jumlah angka pada setiap baris bertambah 1, dan bilangan yang ditampilkan adalah bilangan prima.\n",
    "## **Tujuan**: Menguji pemahaman tentang loop, bilangan prima, dan bagaimana pola dihasilkan.\n",
    "\n",
    "## Jawaban:\n",
    "import math\n",
    "\n",
    "def is_prime(num):\n",
    "        return False\n",
    "    if num <= 3:\n",
    "        return True\n",
    "    if num % 2 == 0 or num % 3 == 0:\n",
    "        return False\n",
    "    i = 5\n",
    "    while i * i <= num:\n",
    "        if num % i == 0 or num % (i + 2) == 0:\n",
    "            return False\n",
    "        i += 6\n",
    "    return True\n",
    "\n",
    "def generate_pattern(rows, max_primes=1000):\n",
    "    \"\"\"Fungsi untuk menghasilkan pola bilangan prima dengan batas maksimum\"\"\"\n",
    "    primes = [2, 3]\n",
    "    num = 5\n",
    "    count = 2  # Menghitung jumlah bilangan prima yang ditemukan\n",
    "    while count < max_primes:\n",
    "        if is_prime(num):\n",
    "            primes.append(num)\n",
    "            count += 1\n",
    "        num += 2\n",
    "\n",
    "    for i in range(rows):\n",
    "        print(*primes[:i+1])\n",
    "\n",
    "# Contoh penggunaan\n",
    "rows = 5\n",
    "max_primes = 20\n",
    "generate_pattern(rows, max_primes)"
   ]
  },
  {
   "cell_type": "code",
   "execution_count": null,
   "metadata": {},
   "outputs": [],
   "source": [
    "# nomer 2"
   ]
  }
 ],
 "metadata": {
  "kernelspec": {
   "display_name": "Python 3",
   "language": "python",
   "name": "python3"
  },
  "language_info": {
   "codemirror_mode": {
    "name": "ipython",
    "version": 3
   },
   "file_extension": ".py",
   "mimetype": "text/x-python",
   "name": "python",
   "nbconvert_exporter": "python",
   "pygments_lexer": "ipython3",
   "version": "3.12.1"
  }
 },
 "nbformat": 4,
 "nbformat_minor": 2
}
