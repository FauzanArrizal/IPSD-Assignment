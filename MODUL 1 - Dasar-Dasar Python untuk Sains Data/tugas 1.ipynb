{
 "cells": [
  {
   "cell_type": "markdown",
   "metadata": {},
   "source": [
    "#### **Soal 1: Memecahkan Masalah Unik dengan Loop dan If-Else**\n",
    "\n",
    "- **Soal**: Buatlah program yang dapat menghasilkan pola berbentuk angka seperti di bawah ini, dengan syarat angka yang ditampilkan adalah hasil dari penjumlahan bilangan prima sebelumnya:\n",
    "    ```\n",
    "    1\n",
    "    2 3\n",
    "    5 7 11\n",
    "    13 17 19 23\n",
    "    ...\n",
    "    ```\n",
    "    Jumlah angka pada setiap baris bertambah 1, dan bilangan yang ditampilkan adalah bilangan prima.\n",
    "\n",
    "- **Tujuan**: Menguji pemahaman tentang loop, bilangan prima, dan bagaimana pola dihasilkan.\n"
   ]
  },
  {
   "cell_type": "code",
   "execution_count": 1,
   "metadata": {},
   "outputs": [
    {
     "name": "stdout",
     "output_type": "stream",
     "text": [
      "2\n",
      "2 3\n",
      "2 3 5\n",
      "2 3 5 7\n",
      "2 3 5 7 11\n"
     ]
    }
   ],
   "source": [
    "# Jawaban:\n",
    "import math\n",
    "\n",
    "def is_prime(num):\n",
    "    if num <= 1:\n",
    "        return False\n",
    "    if num <= 3:\n",
    "        return True\n",
    "    if num % 2 == 0 or num % 3 == 0:\n",
    "        return False\n",
    "    i = 5\n",
    "    while i * i <= num:\n",
    "        if num % i == 0 or num % (i + 2) == 0:\n",
    "            return False\n",
    "        i += 6\n",
    "    return True\n",
    "\n",
    "def generate_pattern(rows, max_primes=1000):\n",
    "    primes = [2, 3]\n",
    "    num = 5\n",
    "    count = 2\n",
    "    while count < max_primes:\n",
    "        if is_prime(num):\n",
    "            primes.append(num)\n",
    "            count += 1\n",
    "        num += 2\n",
    "\n",
    "    for i in range(rows):\n",
    "        print(*primes[:i+1])\n",
    "\n",
    "rows = 5\n",
    "max_primes = 20\n",
    "generate_pattern(rows, max_primes)"
   ]
  },
  {
   "cell_type": "markdown",
   "metadata": {},
   "source": [
    "#### **Soal 2: Membuat Fungsi dengan Syarat Spesifik**\n",
    "\n",
    "- **Soal**: Buatlah sebuah fungsi yang menerima dua input berupa list angka. Fungsi ini harus mengembalikan sebuah list baru yang berisi elemen dari dua list input yang memiliki indeks ganjil. List baru tersebut juga harus diurutkan secara menurun berdasarkan nilai elemen.\n",
    "- **Tujuan**: Menguji mahasiswa dalam manipulasi list, penggunaan indeks, serta pemahaman tentang fungsi dan pengurutan.\n"
   ]
  },
  {
   "cell_type": "code",
   "execution_count": 12,
   "metadata": {},
   "outputs": [],
   "source": [
    "# Jawaban:\n"
   ]
  },
  {
   "cell_type": "markdown",
   "metadata": {},
   "source": [
    "#### **Soal 3: Exception Handling dalam Konteks Nyata**\n",
    "\n",
    "- **Soal**: Buat sebuah program untuk mensimulasikan transaksi ATM. Program harus:\n",
    "    1. Meminta pengguna memasukkan PIN (dibatasi 3 kali percobaan).\n",
    "    2. Setelah PIN benar, meminta jumlah penarikan.\n",
    "    3. Jika saldo kurang dari jumlah yang ditarik, munculkan pesan kesalahan.\n",
    "    4. Jika penarikan berhasil, tampilkan saldo akhir.\n",
    "- **Tujuan**: Menguji penggunaan input, while loop, exception handling, dan logika untuk memproses skenario kehidupan nyata.\n"
   ]
  },
  {
   "cell_type": "code",
   "execution_count": null,
   "metadata": {},
   "outputs": [],
   "source": [
    "# Jawaban:\n"
   ]
  },
  {
   "cell_type": "markdown",
   "metadata": {},
   "source": [
    "#### **Soal 4: Studi Kasus Pengelolaan Data**\n",
    "\n",
    "- **Soal**: Anda diberikan file CSV berisi data nilai ujian mahasiswa. Tugas Anda adalah menulis sebuah program yang:\n",
    "    1. Membaca file CSV dan menyimpan datanya ke dalam dictionary.\n",
    "    2. Menghitung rata-rata nilai tiap mahasiswa.\n",
    "    3. Menampilkan mahasiswa dengan nilai tertinggi dan terendah.\n",
    "\n",
    "- **Tujuan**: Menguji kemampuan mahasiswa dalam membaca file, mengelola data dengan dictionary, serta menerapkan logika perhitungan.\n"
   ]
  },
  {
   "cell_type": "code",
   "execution_count": null,
   "metadata": {},
   "outputs": [],
   "source": [
    "# Jawaban:\n"
   ]
  },
  {
   "cell_type": "markdown",
   "metadata": {},
   "source": [
    "#### **Soal 5: Kombinasi Logika dan Kreativitas**\n",
    "\n",
    "- **Soal**: Buatlah permainan sederhana menggunakan Python, di mana komputer akan memilih sebuah angka secara acak antara 1 hingga 100, dan pengguna harus menebak angka tersebut. Setiap tebakan yang salah akan memberikan petunjuk apakah angka yang ditebak lebih besar atau lebih kecil dari angka sebenarnya. Batasi jumlah percobaan menjadi 5 kali. Setelah permainan selesai, tampilkan apakah pemain menang atau kalah.\n",
    "- **Tujuan**: Menguji logika, kontrol alur program, penggunaan modul `random`, serta kreativitas dalam membangun program interaktif.\n"
   ]
  },
  {
   "cell_type": "code",
   "execution_count": null,
   "metadata": {},
   "outputs": [],
   "source": [
    "# Jawaban:\n"
   ]
  },
  {
   "cell_type": "markdown",
   "metadata": {},
   "source": [
    "#### **Soal 6: Rekursi yang Tidak Biasa**\n",
    "\n",
    "- **Soal**: Buat fungsi rekursif yang menerima input bilangan bulat `n` dan menghasilkan urutan bilangan seperti berikut ini:\n",
    "    ```\n",
    "    Input: n = 4\n",
    "    Output: 1, 1, 2, 6, 24\n",
    "    ```\n",
    "    Fungsi ini harus menggunakan konsep rekursi untuk menghitung faktorial setiap angka hingga `n`.\n",
    "\n",
    "- **Tujuan**: Menguji pemahaman rekursi dengan penerapan unik dan sulit dipahami secara instan oleh AI.\n"
   ]
  },
  {
   "cell_type": "code",
   "execution_count": null,
   "metadata": {},
   "outputs": [],
   "source": [
    "# Jawaban:\n"
   ]
  },
  {
   "cell_type": "markdown",
   "metadata": {},
   "source": [
    "#### **Soal 7: Pemrograman dengan Algoritma Greedy**\n",
    "\n",
    "- **Soal**: Buatlah program untuk memecahkan masalah \"minimum coin change\". Diberikan jumlah uang dan daftar nilai koin yang tersedia (misalnya, 1, 5, 10, 25), tentukan kombinasi minimum koin yang diperlukan untuk mencapai jumlah uang tersebut. Namun, program Anda harus bisa menangani koin-koin yang nilai dan jumlahnya ditentukan pengguna.\n",
    "- **Tujuan**: Menguji kemampuan mahasiswa dalam memahami dan mengimplementasikan algoritma greedy, serta pemrograman modular.\n"
   ]
  },
  {
   "cell_type": "code",
   "execution_count": null,
   "metadata": {},
   "outputs": [],
   "source": [
    "# Jawaban:\n"
   ]
  },
  {
   "cell_type": "markdown",
   "metadata": {},
   "source": [
    "#### **Soal 8: Kombinasi String dan Manipulasi List**\n",
    "\n",
    "- **Soal**: Buat sebuah program yang menerima string dari pengguna dan mengonversi string tersebut menjadi sebuah list berisi kata-kata terbalik. Misalnya:\n",
    "    ```\n",
    "    Input: \"Saya suka Python\"\n",
    "    Output: [\"ayaS\", \"akus\", \"nohtyP\"]\n",
    "    ```\n",
    "\n",
    "- **Tujuan**: Menguji mahasiswa dalam manipulasi string dan list, serta penerapan logika kreatif.\n"
   ]
  },
  {
   "cell_type": "code",
   "execution_count": null,
   "metadata": {},
   "outputs": [],
   "source": [
    "# Jawaban:\n"
   ]
  },
  {
   "cell_type": "markdown",
   "metadata": {},
   "source": [
    "#### **Soal 9: Konsep Class dan Object-Oriented Programming**\n",
    "\n",
    "- **Soal**: Buat class bernama `Buku` yang memiliki atribut `judul`, `penulis`, dan `tahun_terbit`. Buat method dalam class untuk menampilkan informasi buku, serta method untuk menghitung usia buku berdasarkan tahun saat ini. Buatlah 3 objek dari class `Buku` dan tampilkan informasi serta usia masing-masing buku.\n",
    "\n",
    "- **Tujuan**: Menguji pemahaman OOP, pembuatan class, penggunaan method, serta manipulasi atribut.\n"
   ]
  },
  {
   "cell_type": "code",
   "execution_count": null,
   "metadata": {},
   "outputs": [],
   "source": [
    "# Jawaban:\n"
   ]
  },
  {
   "cell_type": "markdown",
   "metadata": {},
   "source": [
    "#### **Soal 10: Algoritma dengan Persyaratan Logika Khusus**\n",
    "\n",
    "- **Soal**: Buatlah program yang mengimplementasikan algoritma pencarian biner, namun dengan modifikasi: algoritma harus bisa mencari nilai di list yang hanya berisi angka genap, dan jika nilai yang dicari adalah angka ganjil, program harus menampilkan pesan bahwa nilai tersebut tidak bisa ditemukan.\n",
    "\n",
    "- **Tujuan**: Menguji pemahaman algoritma pencarian serta pengkondisian logika yang lebih kompleks.\n"
   ]
  },
  {
   "cell_type": "code",
   "execution_count": null,
   "metadata": {},
   "outputs": [],
   "source": [
    "# Jawaban:\n"
   ]
  }
 ],
 "metadata": {
  "kernelspec": {
   "display_name": "Python 3",
   "language": "python",
   "name": "python3"
  },
  "language_info": {
   "codemirror_mode": {
    "name": "ipython",
    "version": 3
   },
   "file_extension": ".py",
   "mimetype": "text/x-python",
   "name": "python",
   "nbconvert_exporter": "python",
   "pygments_lexer": "ipython3",
   "version": "3.12.1"
  }
 },
 "nbformat": 4,
 "nbformat_minor": 2
}
