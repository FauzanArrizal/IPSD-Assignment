{
 "cells": [
  {
   "cell_type": "markdown",
   "metadata": {},
   "source": [
    "#### **Soal 1: Memecahkan Masalah Unik dengan Loop dan If-Else**\n",
    "\n",
    "- **Soal**: Buatlah program yang dapat menghasilkan pola berbentuk angka seperti di bawah ini, dengan syarat angka yang ditampilkan adalah hasil dari penjumlahan bilangan prima sebelumnya:\n",
    "    ```\n",
    "    1\n",
    "    2 3\n",
    "    5 7 11\n",
    "    13 17 19 23\n",
    "    ...\n",
    "    ```\n",
    "    Jumlah angka pada setiap baris bertambah 1, dan bilangan yang ditampilkan adalah bilangan prima.\n",
    "\n",
    "- **Tujuan**: Menguji pemahaman tentang loop, bilangan prima, dan bagaimana pola dihasilkan.\n"
   ]
  },
  {
   "cell_type": "code",
   "execution_count": 19,
   "metadata": {},
   "outputs": [
    {
     "name": "stdout",
     "output_type": "stream",
     "text": [
      "2\n",
      "2 3\n",
      "2 3 5\n",
      "2 3 5 7\n",
      "2 3 5 7 11\n"
     ]
    }
   ],
   "source": [
    "# Jawaban:\n",
    "\n",
    "import math\n",
    "\n",
    "def adalah_prima(num):\n",
    "    if num <= 1:\n",
    "        return False\n",
    "    if num <= 3:\n",
    "        return True\n",
    "    if num % 2 == 0 or num % 3 == 0:\n",
    "        return False\n",
    "    i = 5\n",
    "    while i * i <= num:\n",
    "        if num % i == 0 or num % (i + 2) == 0:\n",
    "            return False\n",
    "        i += 6\n",
    "    return True\n",
    "\n",
    "def buat_pola(baris):\n",
    "    prima = []\n",
    "    num = 2\n",
    "    for i in range(baris):\n",
    "        while len(prima) <= i:\n",
    "            if adalah_prima(num):\n",
    "                prima.append(num)\n",
    "            num += 1\n",
    "        print(*prima[:i+1])\n",
    "\n",
    "baris = 5\n",
    "buat_pola(baris)"
   ]
  },
  {
   "cell_type": "markdown",
   "metadata": {},
   "source": [
    "#### **Soal 2: Membuat Fungsi dengan Syarat Spesifik**\n",
    "\n",
    "- **Soal**: Buatlah sebuah fungsi yang menerima dua input berupa list angka. Fungsi ini harus mengembalikan sebuah list baru yang berisi elemen dari dua list input yang memiliki indeks ganjil. List baru tersebut juga harus diurutkan secara menurun berdasarkan nilai elemen.\n",
    "- **Tujuan**: Menguji mahasiswa dalam manipulasi list, penggunaan indeks, serta pemahaman tentang fungsi dan pengurutan.\n"
   ]
  },
  {
   "cell_type": "code",
   "execution_count": 5,
   "metadata": {},
   "outputs": [
    {
     "name": "stdout",
     "output_type": "stream",
     "text": [
      "[10, 8, 6, 4, 2]\n"
     ]
    }
   ],
   "source": [
    "# Jawaban:\n",
    "\n",
    "def gabung_dan_urutkan_ganjil(list_a, list_b):\n",
    "    ganjil_gabungan = [x for i, x in enumerate(list_a + list_b) if i % 2 != 0]\n",
    "    ganjil_gabungan.sort(reverse=True)\n",
    "    return ganjil_gabungan\n",
    "\n",
    "list_a = [1, 2, 3, 4, 5]\n",
    "list_b = [6, 7, 8, 9, 10]\n",
    "print(gabung_dan_urutkan_ganjil(list_a, list_b))"
   ]
  },
  {
   "cell_type": "markdown",
   "metadata": {},
   "source": [
    "#### **Soal 3: Exception Handling dalam Konteks Nyata**\n",
    "\n",
    "- **Soal**: Buat sebuah program untuk mensimulasikan transaksi ATM. Program harus:\n",
    "    1. Meminta pengguna memasukkan PIN (dibatasi 3 kali percobaan).\n",
    "    2. Setelah PIN benar, meminta jumlah penarikan.\n",
    "    3. Jika saldo kurang dari jumlah yang ditarik, munculkan pesan kesalahan.\n",
    "    4. Jika penarikan berhasil, tampilkan saldo akhir.\n",
    "- **Tujuan**: Menguji penggunaan input, while loop, exception handling, dan logika untuk memproses skenario kehidupan nyata.\n"
   ]
  },
  {
   "cell_type": "code",
   "execution_count": 6,
   "metadata": {},
   "outputs": [
    {
     "name": "stdout",
     "output_type": "stream",
     "text": [
      "PIN benar.\n",
      "\n",
      "=== Selamat Datang di ATM Simulator ===\n",
      "\n",
      "1. Lakukan Penarikan\n",
      "2. Cek Saldo\n",
      "3. Keluar\n",
      "Saldo akun Anda adalah Rp10000000\n",
      "\n",
      "=== Selamat Datang di ATM Simulator ===\n",
      "\n",
      "1. Lakukan Penarikan\n",
      "2. Cek Saldo\n",
      "3. Keluar\n",
      "Penarikan berhasil. Saldo akhir Anda adalah Rp9000000\n",
      "\n",
      "=== Selamat Datang di ATM Simulator ===\n",
      "\n",
      "1. Lakukan Penarikan\n",
      "2. Cek Saldo\n",
      "3. Keluar\n",
      "Terima kasih telah menggunakan ATM Simulator. Sampai jumpa!\n"
     ]
    }
   ],
   "source": [
    "# Jawaban\n",
    "\n",
    "class ATMSimulator:\n",
    "    def __init__(self, saldo_awal=10000000):\n",
    "        self.saldo = saldo_awal\n",
    "        self.pin = \"666666\"\n",
    "        self.percobaan_pin = 3\n",
    "\n",
    "    def masukkan_pin(self):\n",
    "        while self.percobaan_pin > 0:\n",
    "            pin_masukkan = input(\"Masukkan PIN Anda: \")\n",
    "            if pin_masukkan == self.pin:\n",
    "                print(\"PIN benar.\")\n",
    "                return True\n",
    "            else:\n",
    "                self.percobaan_pin -= 1\n",
    "                print(f\"PIN salah. Anda memiliki {self.percobaan_pin} percobaan lagi.\")\n",
    "        return False\n",
    "\n",
    "    def lakukan_penarikan(self):\n",
    "        try:\n",
    "            jumlah_penarikan = int(input(\"Masukkan jumlah penarikan: \"))\n",
    "            if jumlah_penarikan > self.saldo:\n",
    "                raise ValueError(\"Saldo tidak mencukupi.\")\n",
    "            else:\n",
    "                self.saldo -= jumlah_penarikan\n",
    "                print(f\"Penarikan berhasil. Saldo akhir Anda adalah Rp{self.saldo}\")\n",
    "        except ValueError as e:\n",
    "            print(f\"Error: {e}\")\n",
    "\n",
    "    def cek_saldo(self):\n",
    "        print(f\"Saldo akun Anda adalah Rp{self.saldo}\")\n",
    "\n",
    "    def menu_utama(self):\n",
    "        if not self.masukkan_pin():\n",
    "            print(\"Percobaan PIN habis. Transaksi dibatalkan.\")\n",
    "            return\n",
    "\n",
    "        while True:\n",
    "            print(\"\\n=== Selamat Datang di ATM Simulator ===\\n\")\n",
    "            print(\"1. Lakukan Penarikan\")\n",
    "            print(\"2. Cek Saldo\")\n",
    "            print(\"3. Keluar\")\n",
    "            pilihan = input(\"Masukkan pilihan Anda (1/2/3): \")\n",
    "            if pilihan == \"1\":\n",
    "                self.lakukan_penarikan()\n",
    "            elif pilihan == \"2\":\n",
    "                self.cek_saldo()\n",
    "            elif pilihan == \"3\":\n",
    "                print(\"Terima kasih telah menggunakan ATM Simulator. Sampai jumpa!\")\n",
    "                break\n",
    "            else:\n",
    "                print(\"Pilihan tidak valid. Silakan coba lagi.\")\n",
    "\n",
    "atm = ATMSimulator()\n",
    "atm.menu_utama()"
   ]
  },
  {
   "cell_type": "markdown",
   "metadata": {},
   "source": [
    "#### **Soal 4: Studi Kasus Pengelolaan Data**\n",
    "\n",
    "- **Soal**: Anda diberikan file CSV berisi data nilai ujian mahasiswa. Tugas Anda adalah menulis sebuah program yang:\n",
    "    1. Membaca file CSV dan menyimpan datanya ke dalam dictionary.\n",
    "    2. Menghitung rata-rata nilai tiap mahasiswa.\n",
    "    3. Menampilkan mahasiswa dengan nilai tertinggi dan terendah.\n",
    "\n",
    "- **Tujuan**: Menguji kemampuan mahasiswa dalam membaca file, mengelola data dengan dictionary, serta menerapkan logika perhitungan.\n"
   ]
  },
  {
   "cell_type": "code",
   "execution_count": 15,
   "metadata": {},
   "outputs": [
    {
     "name": "stdout",
     "output_type": "stream",
     "text": [
      "   Nama Siswa  Nilai\n",
      "0     Siswa_1     59\n",
      "1     Siswa_2     79\n",
      "2     Siswa_3     61\n",
      "3     Siswa_4     74\n",
      "4     Siswa_5     50\n",
      "..        ...    ...\n",
      "95   Siswa_96     59\n",
      "96   Siswa_97     57\n",
      "97   Siswa_98     70\n",
      "98   Siswa_99     66\n",
      "99  Siswa_100     78\n",
      "\n",
      "[100 rows x 2 columns]\n",
      "{'Nama Siswa': ['Siswa_1', 'Siswa_2', 'Siswa_3', 'Siswa_4', 'Siswa_5', 'Siswa_6', 'Siswa_7', 'Siswa_8', 'Siswa_9', 'Siswa_10', 'Siswa_11', 'Siswa_12', 'Siswa_13', 'Siswa_14', 'Siswa_15', 'Siswa_16', 'Siswa_17', 'Siswa_18', 'Siswa_19', 'Siswa_20', 'Siswa_21', 'Siswa_22', 'Siswa_23', 'Siswa_24', 'Siswa_25', 'Siswa_26', 'Siswa_27', 'Siswa_28', 'Siswa_29', 'Siswa_30', 'Siswa_31', 'Siswa_32', 'Siswa_33', 'Siswa_34', 'Siswa_35', 'Siswa_36', 'Siswa_37', 'Siswa_38', 'Siswa_39', 'Siswa_40', 'Siswa_41', 'Siswa_42', 'Siswa_43', 'Siswa_44', 'Siswa_45', 'Siswa_46', 'Siswa_47', 'Siswa_48', 'Siswa_49', 'Siswa_50', 'Siswa_51', 'Siswa_52', 'Siswa_53', 'Siswa_54', 'Siswa_55', 'Siswa_56', 'Siswa_57', 'Siswa_58', 'Siswa_59', 'Siswa_60', 'Siswa_61', 'Siswa_62', 'Siswa_63', 'Siswa_64', 'Siswa_65', 'Siswa_66', 'Siswa_67', 'Siswa_68', 'Siswa_69', 'Siswa_70', 'Siswa_71', 'Siswa_72', 'Siswa_73', 'Siswa_74', 'Siswa_75', 'Siswa_76', 'Siswa_77', 'Siswa_78', 'Siswa_79', 'Siswa_80', 'Siswa_81', 'Siswa_82', 'Siswa_83', 'Siswa_84', 'Siswa_85', 'Siswa_86', 'Siswa_87', 'Siswa_88', 'Siswa_89', 'Siswa_90', 'Siswa_91', 'Siswa_92', 'Siswa_93', 'Siswa_94', 'Siswa_95', 'Siswa_96', 'Siswa_97', 'Siswa_98', 'Siswa_99', 'Siswa_100'], 'Nilai': [59, 79, 61, 74, 50, 70, 100, 84, 78, 61, 92, 60, 78, 87, 57, 73, 53, 54, 97, 52, 84, 89, 52, 90, 52, 64, 96, 100, 84, 60, 85, 63, 64, 68, 67, 52, 79, 55, 88, 95, 78, 66, 71, 64, 51, 77, 90, 83, 99, 56, 68, 88, 62, 98, 58, 92, 60, 55, 93, 60, 53, 79, 75, 83, 58, 50, 75, 61, 57, 98, 85, 57, 53, 55, 54, 64, 51, 65, 68, 51, 99, 89, 92, 56, 96, 79, 76, 71, 98, 89, 92, 65, 50, 84, 67, 59, 57, 70, 66, 78]}\n",
      "\n",
      "Rata-rata nilai adalah: 72.0\n",
      "\n",
      "\n",
      "Nilai tertinggi adalah: 100\n",
      "Nilai terendah adalah: 50\n"
     ]
    }
   ],
   "source": [
    "# jawaban:\n",
    "import pandas as pd\n",
    "\n",
    "data = pd.read_csv(\"D:/ITTP '23/SEMESTER 3/IPSD/MODUL 1 - Dasar-Dasar Python untuk Sains Data/siswa_nilai (1).csv\")\n",
    "print(data)\n",
    "\n",
    "data_dict = data.to_dict(orient='list')\n",
    "print(data_dict)\n",
    "print()\n",
    "\n",
    "nilai = data_dict.get('Nilai', [])\n",
    "nama = data_dict.get('Nama Siswa', [])\n",
    "\n",
    "if nilai:\n",
    "    rata_rata = sum(nilai) / len(nilai)\n",
    "    rata_all = round(rata_rata, 2)\n",
    "    print(f\"Rata-rata nilai adalah: {rata_all}\")\n",
    "    print()\n",
    "    nilai_tertinggi = max(nilai)\n",
    "    nilai_terendah = min(nilai)\n",
    "    print()\n",
    "    print(f\"Nilai tertinggi adalah: {nilai_tertinggi}\")\n",
    "    print(f\"Nilai terendah adalah: {nilai_terendah}\")\n",
    "else:\n",
    "    print(\"Nilai tidak ada\")"
   ]
  },
  {
   "cell_type": "markdown",
   "metadata": {},
   "source": [
    "#### **Soal 5: Kombinasi Logika dan Kreativitas**\n",
    "\n",
    "- **Soal**: Buatlah permainan sederhana menggunakan Python, di mana komputer akan memilih sebuah angka secara acak antara 1 hingga 100, dan pengguna harus menebak angka tersebut. Setiap tebakan yang salah akan memberikan petunjuk apakah angka yang ditebak lebih besar atau lebih kecil dari angka sebenarnya. Batasi jumlah percobaan menjadi 5 kali. Setelah permainan selesai, tampilkan apakah pemain menang atau kalah.\n",
    "- **Tujuan**: Menguji logika, kontrol alur program, penggunaan modul `random`, serta kreativitas dalam membangun program interaktif.\n"
   ]
  },
  {
   "cell_type": "code",
   "execution_count": 23,
   "metadata": {},
   "outputs": [
    {
     "name": "stdout",
     "output_type": "stream",
     "text": [
      "Tebakan Anda terlalu rendah!\n",
      "Tebakan Anda terlalu rendah!\n",
      "Selamat, Anda menebak dengan benar! Angka yang benar adalah 80.\n"
     ]
    }
   ],
   "source": [
    "# Jawaban\n",
    "\n",
    "import random\n",
    "\n",
    "number = random.randint(1, 100)\n",
    "attempts = 0\n",
    "max_attempts = 5\n",
    "\n",
    "while attempts < max_attempts:\n",
    "    try:\n",
    "        guess = int(input(\"Masukkan Tebakan Anda: \"))\n",
    "        attempts += 1\n",
    "        if guess < number:\n",
    "            print(\"Tebakan Anda terlalu rendah!\")\n",
    "        elif guess > number:\n",
    "            print(\"Tebakan Anda terlalu tinggi!\")\n",
    "        else:\n",
    "            print(f\"Selamat, Anda menebak dengan benar! Angka yang benar adalah {number}.\")\n",
    "            break\n",
    "    except ValueError:\n",
    "        print(\"Masukkan sebuah angka yang valid.\")\n",
    "\n",
    "if attempts == max_attempts and guess != number:\n",
    "    print(f\"Maaf, Anda telah mencapai batas maksimal tebakan. Jawabannya adalah {number}.\")"
   ]
  },
  {
   "cell_type": "markdown",
   "metadata": {},
   "source": [
    "#### **Soal 6: Rekursi yang Tidak Biasa**\n",
    "\n",
    "- **Soal**: Buat fungsi rekursif yang menerima input bilangan bulat `n` dan menghasilkan urutan bilangan seperti berikut ini:\n",
    "    ```\n",
    "    Input: n = 4\n",
    "    Output: 1, 1, 2, 6, 24\n",
    "    ```\n",
    "    Fungsi ini harus menggunakan konsep rekursi untuk menghitung faktorial setiap angka hingga `n`.\n",
    "\n",
    "- **Tujuan**: Menguji pemahaman rekursi dengan penerapan unik dan sulit dipahami secara instan oleh AI.\n"
   ]
  },
  {
   "cell_type": "code",
   "execution_count": 24,
   "metadata": {},
   "outputs": [
    {
     "name": "stdout",
     "output_type": "stream",
     "text": [
      "Input: 5\n",
      "Output: 1, 1, 2, 6, 24, 120\n"
     ]
    }
   ],
   "source": [
    "# Jawaban:\n",
    "\n",
    "def hitung_faktorial(angka):\n",
    "    if angka == 0 or angka == 1:\n",
    "        return 1\n",
    "    else:\n",
    "        return angka * hitung_faktorial(angka - 1)\n",
    "\n",
    "def urutan_faktorial(n):\n",
    "    hasil = []\n",
    "    for i in range(n + 1):\n",
    "        faktorial = hitung_faktorial(i)\n",
    "        hasil.append(faktorial)\n",
    "    return hasil\n",
    "\n",
    "n = int(input(\"Masukkan angka: \"))\n",
    "output = urutan_faktorial(n)\n",
    "print(\"Input:\", n)\n",
    "print(\"Output:\", ', '.join(map(str, output)))"
   ]
  },
  {
   "cell_type": "markdown",
   "metadata": {},
   "source": [
    "#### **Soal 7: Pemrograman dengan Algoritma Greedy**\n",
    "\n",
    "- **Soal**: Buatlah program untuk memecahkan masalah \"minimum coin change\". Diberikan jumlah uang dan daftar nilai koin yang tersedia (misalnya, 1, 5, 10, 25), tentukan kombinasi minimum koin yang diperlukan untuk mencapai jumlah uang tersebut. Namun, program Anda harus bisa menangani koin-koin yang nilai dan jumlahnya ditentukan pengguna.\n",
    "- **Tujuan**: Menguji kemampuan mahasiswa dalam memahami dan mengimplementasikan algoritma greedy, serta pemrograman modular.\n"
   ]
  },
  {
   "cell_type": "code",
   "execution_count": 22,
   "metadata": {},
   "outputs": [
    {
     "name": "stdout",
     "output_type": "stream",
     "text": [
      "\n",
      "koin: 1 2 5 10\n",
      "uang:  33 \n",
      "\n",
      "pilih koin 5 tersisa 28\n",
      "pilih koin 5 tersisa 23\n",
      "pilih koin 5 tersisa 18\n",
      "pilih koin 5 tersisa 13\n",
      "pilih koin 5 tersisa 8\n",
      "pilih koin 5 tersisa 3\n",
      "pilih koin 2 tersisa 1\n",
      "pilih koin 1 tersisa 0\n",
      "uang $ 33 dapat ditukar menjadi:  8 koin\n"
     ]
    }
   ],
   "source": [
    "# Jawaban\n",
    "\n",
    "def coinchange(coins, n):\n",
    "    total = 0\n",
    "    i = 0\n",
    "    while n != 0:\n",
    "        while i < len(coins):\n",
    "            if coins[i] <= n:\n",
    "                n -= coins[i]\n",
    "                print(\"pilih koin\", coins[i], \"tersisa\", n)\n",
    "                i -= 1\n",
    "                total += 1\n",
    "            i += 1\n",
    "    return total\n",
    "\n",
    "koin = input(\"masukkan koin: \")\n",
    "uang = input(\"masukkan uang: \")\n",
    "\n",
    "splitkoin = koin.split(\" \")\n",
    "coins = []\n",
    "for coin in splitkoin:\n",
    "    coins.append(coin)\n",
    "coins.sort(reverse=True)\n",
    "coins = list(map(int, coins))\n",
    "print(\"\\nkoin:\", koin)\n",
    "print(\"uang: \", uang, \"\\n\")\n",
    "\n",
    "total = coinchange(coins, int(uang))\n",
    "print(\"uang $\", uang, \"dapat ditukar menjadi: \", total, \"koin\")"
   ]
  },
  {
   "cell_type": "markdown",
   "metadata": {},
   "source": [
    "#### **Soal 8: Kombinasi String dan Manipulasi List**\n",
    "\n",
    "- **Soal**: Buat sebuah program yang menerima string dari pengguna dan mengonversi string tersebut menjadi sebuah list berisi kata-kata terbalik. Misalnya:\n",
    "    ```\n",
    "    Input: \"Saya suka Python\"\n",
    "    Output: [\"ayaS\", \"akus\", \"nohtyP\"]\n",
    "    ```\n",
    "\n",
    "- **Tujuan**: Menguji mahasiswa dalam manipulasi string dan list, serta penerapan logika kreatif.\n"
   ]
  },
  {
   "cell_type": "code",
   "execution_count": 3,
   "metadata": {},
   "outputs": [
    {
     "name": "stdout",
     "output_type": "stream",
     "text": [
      "['ayaS', 'akus', 'niamreb', 'ilov']\n"
     ]
    }
   ],
   "source": [
    "# Jawaban:\n",
    "\n",
    "def balik_kata(kalimat):\n",
    "    kata_kata = kalimat.split()\n",
    "    kata_kata_balik = []\n",
    "    for kata in kata_kata:\n",
    "        kata_balik = kata[::-1]\n",
    "        kata_kata_balik.append(kata_balik)\n",
    "    return kata_kata_balik\n",
    "\n",
    "kalimat = input(\"Masukkan string: \")\n",
    "hasil = balik_kata(kalimat)\n",
    "print(hasil)"
   ]
  },
  {
   "cell_type": "markdown",
   "metadata": {},
   "source": [
    "#### **Soal 9: Konsep Class dan Object-Oriented Programming**\n",
    "\n",
    "- **Soal**: Buat class bernama `Buku` yang memiliki atribut `judul`, `penulis`, dan `tahun_terbit`. Buat method dalam class untuk menampilkan informasi buku, serta method untuk menghitung usia buku berdasarkan tahun saat ini. Buatlah 3 objek dari class `Buku` dan tampilkan informasi serta usia masing-masing buku.\n",
    "\n",
    "- **Tujuan**: Menguji pemahaman OOP, pembuatan class, penggunaan method, serta manipulasi atribut.\n"
   ]
  },
  {
   "cell_type": "code",
   "execution_count": 16,
   "metadata": {},
   "outputs": [
    {
     "name": "stdout",
     "output_type": "stream",
     "text": [
      "Judul: Laskar Pelangi\n",
      "Penulis: Andrea Hirata\n",
      "Tahun Terbit: 2005\n",
      "Usia buku: 19 tahun\n",
      "\n",
      "Judul: Bumi Manusia\n",
      "Penulis: Pramoedya Ananta Toer\n",
      "Tahun Terbit: 1980\n",
      "Usia buku: 44 tahun\n",
      "\n",
      "Judul: Harry Potter dan Batu Bertuah\n",
      "Penulis: J.K. Rowling\n",
      "Tahun Terbit: 1997\n",
      "Usia buku: 27 tahun\n",
      "\n"
     ]
    }
   ],
   "source": [
    "# Jawaban:\n",
    "\n",
    "from datetime import datetime\n",
    "\n",
    "class Buku:\n",
    "    def __init__(self, judul, penulis, tahun_terbit):\n",
    "        self.judul = judul\n",
    "        self.penulis = penulis\n",
    "        self.tahun_terbit = tahun_terbit\n",
    "\n",
    "    def tampilkan_informasi(self):\n",
    "        print(f\"Judul: {self.judul}\")\n",
    "        print(f\"Penulis: {self.penulis}\")\n",
    "        print(f\"Tahun Terbit: {self.tahun_terbit}\")\n",
    "\n",
    "    def hitung_usia(self):\n",
    "        tahun_sekarang = datetime.now().year\n",
    "        usia = tahun_sekarang - self.tahun_terbit\n",
    "        return usia\n",
    "\n",
    "buku1 = Buku(\"Laskar Pelangi\", \"Andrea Hirata\", 2005)\n",
    "buku2 = Buku(\"Bumi Manusia\", \"Pramoedya Ananta Toer\", 1980)\n",
    "buku3 = Buku(\"Harry Potter dan Batu Bertuah\", \"J.K. Rowling\", 1997)\n",
    "\n",
    "for buku in (buku1, buku2, buku3):\n",
    "    buku.tampilkan_informasi()\n",
    "    print(f\"Usia buku: {buku.hitung_usia()} tahun\\n\")"
   ]
  },
  {
   "cell_type": "markdown",
   "metadata": {},
   "source": [
    "#### **Soal 10: Algoritma dengan Persyaratan Logika Khusus**\n",
    "\n",
    "- **Soal**: Buatlah program yang mengimplementasikan algoritma pencarian biner, namun dengan modifikasi: algoritma harus bisa mencari nilai di list yang hanya berisi angka genap, dan jika nilai yang dicari adalah angka ganjil, program harus menampilkan pesan bahwa nilai tersebut tidak bisa ditemukan.\n",
    "\n",
    "- **Tujuan**: Menguji pemahaman algoritma pencarian serta pengkondisian logika yang lebih kompleks.\n"
   ]
  },
  {
   "cell_type": "code",
   "execution_count": 14,
   "metadata": {},
   "outputs": [
    {
     "name": "stdout",
     "output_type": "stream",
     "text": [
      "Nilai 8 ditemukan pada indeks 3.\n"
     ]
    }
   ],
   "source": [
    "# jawaban\n",
    "\n",
    "def binary_search_even(arr, target):\n",
    "    if target % 2 != 0:\n",
    "        return \"Nilai ganjil tidak bisa ditemukan dalam list angka genap.\"\n",
    "\n",
    "    left, right = 0, len(arr) - 1\n",
    "    while left <= right:\n",
    "        mid = (left + right) // 2\n",
    "        mid_value = arr[mid]\n",
    "        if mid_value == target:\n",
    "            return f\"Nilai {target} ditemukan pada indeks {mid}.\"\n",
    "        elif mid_value < target:\n",
    "            left = mid + 1\n",
    "        else:\n",
    "            right = mid - 1\n",
    "    return \"Nilai tidak ditemukan.\"\n",
    "\n",
    "even_numbers = [2, 4, 6, 8, 10, 12, 14, 16]\n",
    "target_value = int(input(\"Masukkan nilai yang ingin dicari: \"))\n",
    "print(binary_search_even(even_numbers, target_value))"
   ]
  }
 ],
 "metadata": {
  "kernelspec": {
   "display_name": "Python 3",
   "language": "python",
   "name": "python3"
  },
  "language_info": {
   "codemirror_mode": {
    "name": "ipython",
    "version": 3
   },
   "file_extension": ".py",
   "mimetype": "text/x-python",
   "name": "python",
   "nbconvert_exporter": "python",
   "pygments_lexer": "ipython3",
   "version": "3.12.1"
  }
 },
 "nbformat": 4,
 "nbformat_minor": 2
}
